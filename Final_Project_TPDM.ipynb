{
  "metadata": {
    "kernelspec": {
      "language": "python",
      "display_name": "Python 3",
      "name": "python3"
    },
    "language_info": {
      "name": "python",
      "version": "3.7.12",
      "mimetype": "text/x-python",
      "codemirror_mode": {
        "name": "ipython",
        "version": 3
      },
      "pygments_lexer": "ipython3",
      "nbconvert_exporter": "python",
      "file_extension": ".py"
    },
    "colab": {
      "provenance": []
    }
  },
  "nbformat_minor": 0,
  "nbformat": 4,
  "cells": [
    {
      "cell_type": "code",
      "source": [
        "import pandas as pd\n",
        "import os\n",
        "from skimage.transform import resize\n",
        "from skimage.io import imread\n",
        "import numpy as np\n",
        "import matplotlib.pyplot as plt"
      ],
      "metadata": {
        "_uuid": "8f2839f25d086af736a60e9eeb907d3b93b6e0e5",
        "_cell_guid": "b1076dfc-b9ad-4769-8c92-a6c4dae69d19",
        "execution": {
          "iopub.status.busy": "2022-01-04T14:37:31.079833Z",
          "iopub.execute_input": "2022-01-04T14:37:31.080364Z",
          "iopub.status.idle": "2022-01-04T14:37:32.659096Z",
          "shell.execute_reply.started": "2022-01-04T14:37:31.080170Z",
          "shell.execute_reply": "2022-01-04T14:37:32.658122Z"
        },
        "trusted": true,
        "id": "P_3RISOPPM3u"
      },
      "execution_count": null,
      "outputs": []
    },
    {
      "cell_type": "code",
      "source": [
        "Categories=['NORMAL','PNEUMONIA']"
      ],
      "metadata": {
        "execution": {
          "iopub.status.busy": "2022-01-04T14:37:32.661106Z",
          "iopub.execute_input": "2022-01-04T14:37:32.661381Z",
          "iopub.status.idle": "2022-01-04T14:37:32.665606Z",
          "shell.execute_reply.started": "2022-01-04T14:37:32.661350Z",
          "shell.execute_reply": "2022-01-04T14:37:32.664970Z"
        },
        "trusted": true,
        "id": "yXH35TRzPM3w"
      },
      "execution_count": null,
      "outputs": []
    },
    {
      "cell_type": "code",
      "source": [
        "flat_data_arr=[]#input array\n",
        "target_arr=[] #output array\n",
        "datadirTrain='/content/drive/MyDrive/input/chest-xray-pneumonia/chest_xray/train'\n",
        "datadirTest='/content/drive/MyDrive//input/chest-xray-pneumonia/chest_xray/test'"
      ],
      "metadata": {
        "execution": {
          "iopub.status.busy": "2022-01-04T14:37:32.667735Z",
          "iopub.execute_input": "2022-01-04T14:37:32.668082Z",
          "iopub.status.idle": "2022-01-04T14:37:32.682479Z",
          "shell.execute_reply.started": "2022-01-04T14:37:32.668037Z",
          "shell.execute_reply": "2022-01-04T14:37:32.681591Z"
        },
        "trusted": true,
        "id": "bDTqd8y0PM3w"
      },
      "execution_count": null,
      "outputs": []
    },
    {
      "cell_type": "code",
      "source": [
        "for i in Categories:\n",
        "    print(f'loading... category : {i}')\n",
        "    path=os.path.join(datadirTrain,i)\n",
        "    for img in os.listdir(path):\n",
        "        img_array=imread(os.path.join(path,img))\n",
        "        img_resized=resize(img_array,(100,100,3))\n",
        "        flat_data_arr.append(img_resized.flatten())\n",
        "        target_arr.append(Categories.index(i))\n",
        "    print(f'loaded category:{i} successfully')\n",
        "flat_data=np.array(flat_data_arr)\n",
        "target=np.array(target_arr)\n",
        "df=pd.DataFrame(flat_data)\n",
        "df['Target']=target\n",
        "df\n"
      ],
      "metadata": {
        "execution": {
          "iopub.status.busy": "2022-01-04T14:37:32.683865Z",
          "iopub.execute_input": "2022-01-04T14:37:32.684335Z",
          "iopub.status.idle": "2022-01-04T14:48:25.891983Z",
          "shell.execute_reply.started": "2022-01-04T14:37:32.684303Z",
          "shell.execute_reply": "2022-01-04T14:48:25.890949Z"
        },
        "trusted": true,
        "id": "3k0OVs9tPM3x",
        "outputId": "07c39521-28ed-4702-efa6-cfbbe9a4e42b"
      },
      "execution_count": null,
      "outputs": [
        {
          "name": "stdout",
          "text": "loading... category : NORMAL\nloaded category:NORMAL successfully\nloading... category : PNEUMONIA\nloaded category:PNEUMONIA successfully\n",
          "output_type": "stream"
        },
        {
          "execution_count": 4,
          "output_type": "execute_result",
          "data": {
            "text/plain": "             0         1         2         3         4         5         6  \\\n0     0.174060  0.174060  0.174060  0.183765  0.183765  0.183765  0.156863   \n1     0.375686  0.375686  0.375686  0.372549  0.372549  0.372549  0.436078   \n2     0.015686  0.015686  0.015686  0.010431  0.010431  0.010431  0.002588   \n3     0.000000  0.000000  0.000000  0.012667  0.012667  0.012667  0.078627   \n4     0.354137  0.354137  0.354137  0.419608  0.419608  0.419608  0.385471   \n...        ...       ...       ...       ...       ...       ...       ...   \n5211  0.127451  0.127451  0.127451  0.153137  0.153137  0.153137  0.194118   \n5212  0.556863  0.556863  0.556863  0.530003  0.530003  0.530003  0.413341   \n5213  0.380435  0.380435  0.380435  0.394196  0.394196  0.394196  0.431765   \n5214  0.210902  0.210902  0.210902  0.320428  0.320428  0.320428  0.288000   \n5215  0.098039  0.098039  0.098039  0.094019  0.094019  0.094019  0.139373   \n\n             7         8         9  ...     29991     29992     29993  \\\n0     0.156863  0.156863  0.153961  ...  0.145098  0.145098  0.145098   \n1     0.436078  0.436078  0.562745  ...  0.000000  0.000000  0.000000   \n2     0.002588  0.002588  0.000000  ...  0.000000  0.000000  0.000000   \n3     0.078627  0.078627  0.156353  ...  0.000000  0.000000  0.000000   \n4     0.385471  0.385471  0.372782  ...  0.000000  0.000000  0.000000   \n...        ...       ...       ...  ...       ...       ...       ...   \n5211  0.194118  0.194118  0.249216  ...  0.011765  0.011765  0.011765   \n5212  0.413341  0.413341  0.325490  ...  0.187843  0.187843  0.187843   \n5213  0.431765  0.431765  0.435059  ...  0.000000  0.000000  0.000000   \n5214  0.288000  0.288000  0.266060  ...  0.000000  0.000000  0.000000   \n5215  0.139373  0.139373  0.210118  ...  0.117647  0.117647  0.117647   \n\n         29994     29995     29996     29997     29998     29999  Target  \n0     0.150841  0.150841  0.150841  0.155707  0.155707  0.155707       0  \n1     0.000000  0.000000  0.000000  0.000000  0.000000  0.000000       0  \n2     0.000000  0.000000  0.000000  0.000000  0.000000  0.000000       0  \n3     0.000000  0.000000  0.000000  0.025843  0.025843  0.025843       0  \n4     0.000000  0.000000  0.000000  0.000000  0.000000  0.000000       0  \n...        ...       ...       ...       ...       ...       ...     ...  \n5211  0.011765  0.011765  0.011765  0.011765  0.011765  0.011765       1  \n5212  0.085255  0.085255  0.085255  0.027451  0.027451  0.027451       1  \n5213  0.000000  0.000000  0.000000  0.000000  0.000000  0.000000       1  \n5214  0.000000  0.000000  0.000000  0.000000  0.000000  0.000000       1  \n5215  0.134039  0.134039  0.134039  0.216124  0.216124  0.216124       1  \n\n[5216 rows x 30001 columns]",
            "text/html": "<div>\n<style scoped>\n    .dataframe tbody tr th:only-of-type {\n        vertical-align: middle;\n    }\n\n    .dataframe tbody tr th {\n        vertical-align: top;\n    }\n\n    .dataframe thead th {\n        text-align: right;\n    }\n</style>\n<table border=\"1\" class=\"dataframe\">\n  <thead>\n    <tr style=\"text-align: right;\">\n      <th></th>\n      <th>0</th>\n      <th>1</th>\n      <th>2</th>\n      <th>3</th>\n      <th>4</th>\n      <th>5</th>\n      <th>6</th>\n      <th>7</th>\n      <th>8</th>\n      <th>9</th>\n      <th>...</th>\n      <th>29991</th>\n      <th>29992</th>\n      <th>29993</th>\n      <th>29994</th>\n      <th>29995</th>\n      <th>29996</th>\n      <th>29997</th>\n      <th>29998</th>\n      <th>29999</th>\n      <th>Target</th>\n    </tr>\n  </thead>\n  <tbody>\n    <tr>\n      <th>0</th>\n      <td>0.174060</td>\n      <td>0.174060</td>\n      <td>0.174060</td>\n      <td>0.183765</td>\n      <td>0.183765</td>\n      <td>0.183765</td>\n      <td>0.156863</td>\n      <td>0.156863</td>\n      <td>0.156863</td>\n      <td>0.153961</td>\n      <td>...</td>\n      <td>0.145098</td>\n      <td>0.145098</td>\n      <td>0.145098</td>\n      <td>0.150841</td>\n      <td>0.150841</td>\n      <td>0.150841</td>\n      <td>0.155707</td>\n      <td>0.155707</td>\n      <td>0.155707</td>\n      <td>0</td>\n    </tr>\n    <tr>\n      <th>1</th>\n      <td>0.375686</td>\n      <td>0.375686</td>\n      <td>0.375686</td>\n      <td>0.372549</td>\n      <td>0.372549</td>\n      <td>0.372549</td>\n      <td>0.436078</td>\n      <td>0.436078</td>\n      <td>0.436078</td>\n      <td>0.562745</td>\n      <td>...</td>\n      <td>0.000000</td>\n      <td>0.000000</td>\n      <td>0.000000</td>\n      <td>0.000000</td>\n      <td>0.000000</td>\n      <td>0.000000</td>\n      <td>0.000000</td>\n      <td>0.000000</td>\n      <td>0.000000</td>\n      <td>0</td>\n    </tr>\n    <tr>\n      <th>2</th>\n      <td>0.015686</td>\n      <td>0.015686</td>\n      <td>0.015686</td>\n      <td>0.010431</td>\n      <td>0.010431</td>\n      <td>0.010431</td>\n      <td>0.002588</td>\n      <td>0.002588</td>\n      <td>0.002588</td>\n      <td>0.000000</td>\n      <td>...</td>\n      <td>0.000000</td>\n      <td>0.000000</td>\n      <td>0.000000</td>\n      <td>0.000000</td>\n      <td>0.000000</td>\n      <td>0.000000</td>\n      <td>0.000000</td>\n      <td>0.000000</td>\n      <td>0.000000</td>\n      <td>0</td>\n    </tr>\n    <tr>\n      <th>3</th>\n      <td>0.000000</td>\n      <td>0.000000</td>\n      <td>0.000000</td>\n      <td>0.012667</td>\n      <td>0.012667</td>\n      <td>0.012667</td>\n      <td>0.078627</td>\n      <td>0.078627</td>\n      <td>0.078627</td>\n      <td>0.156353</td>\n      <td>...</td>\n      <td>0.000000</td>\n      <td>0.000000</td>\n      <td>0.000000</td>\n      <td>0.000000</td>\n      <td>0.000000</td>\n      <td>0.000000</td>\n      <td>0.025843</td>\n      <td>0.025843</td>\n      <td>0.025843</td>\n      <td>0</td>\n    </tr>\n    <tr>\n      <th>4</th>\n      <td>0.354137</td>\n      <td>0.354137</td>\n      <td>0.354137</td>\n      <td>0.419608</td>\n      <td>0.419608</td>\n      <td>0.419608</td>\n      <td>0.385471</td>\n      <td>0.385471</td>\n      <td>0.385471</td>\n      <td>0.372782</td>\n      <td>...</td>\n      <td>0.000000</td>\n      <td>0.000000</td>\n      <td>0.000000</td>\n      <td>0.000000</td>\n      <td>0.000000</td>\n      <td>0.000000</td>\n      <td>0.000000</td>\n      <td>0.000000</td>\n      <td>0.000000</td>\n      <td>0</td>\n    </tr>\n    <tr>\n      <th>...</th>\n      <td>...</td>\n      <td>...</td>\n      <td>...</td>\n      <td>...</td>\n      <td>...</td>\n      <td>...</td>\n      <td>...</td>\n      <td>...</td>\n      <td>...</td>\n      <td>...</td>\n      <td>...</td>\n      <td>...</td>\n      <td>...</td>\n      <td>...</td>\n      <td>...</td>\n      <td>...</td>\n      <td>...</td>\n      <td>...</td>\n      <td>...</td>\n      <td>...</td>\n      <td>...</td>\n    </tr>\n    <tr>\n      <th>5211</th>\n      <td>0.127451</td>\n      <td>0.127451</td>\n      <td>0.127451</td>\n      <td>0.153137</td>\n      <td>0.153137</td>\n      <td>0.153137</td>\n      <td>0.194118</td>\n      <td>0.194118</td>\n      <td>0.194118</td>\n      <td>0.249216</td>\n      <td>...</td>\n      <td>0.011765</td>\n      <td>0.011765</td>\n      <td>0.011765</td>\n      <td>0.011765</td>\n      <td>0.011765</td>\n      <td>0.011765</td>\n      <td>0.011765</td>\n      <td>0.011765</td>\n      <td>0.011765</td>\n      <td>1</td>\n    </tr>\n    <tr>\n      <th>5212</th>\n      <td>0.556863</td>\n      <td>0.556863</td>\n      <td>0.556863</td>\n      <td>0.530003</td>\n      <td>0.530003</td>\n      <td>0.530003</td>\n      <td>0.413341</td>\n      <td>0.413341</td>\n      <td>0.413341</td>\n      <td>0.325490</td>\n      <td>...</td>\n      <td>0.187843</td>\n      <td>0.187843</td>\n      <td>0.187843</td>\n      <td>0.085255</td>\n      <td>0.085255</td>\n      <td>0.085255</td>\n      <td>0.027451</td>\n      <td>0.027451</td>\n      <td>0.027451</td>\n      <td>1</td>\n    </tr>\n    <tr>\n      <th>5213</th>\n      <td>0.380435</td>\n      <td>0.380435</td>\n      <td>0.380435</td>\n      <td>0.394196</td>\n      <td>0.394196</td>\n      <td>0.394196</td>\n      <td>0.431765</td>\n      <td>0.431765</td>\n      <td>0.431765</td>\n      <td>0.435059</td>\n      <td>...</td>\n      <td>0.000000</td>\n      <td>0.000000</td>\n      <td>0.000000</td>\n      <td>0.000000</td>\n      <td>0.000000</td>\n      <td>0.000000</td>\n      <td>0.000000</td>\n      <td>0.000000</td>\n      <td>0.000000</td>\n      <td>1</td>\n    </tr>\n    <tr>\n      <th>5214</th>\n      <td>0.210902</td>\n      <td>0.210902</td>\n      <td>0.210902</td>\n      <td>0.320428</td>\n      <td>0.320428</td>\n      <td>0.320428</td>\n      <td>0.288000</td>\n      <td>0.288000</td>\n      <td>0.288000</td>\n      <td>0.266060</td>\n      <td>...</td>\n      <td>0.000000</td>\n      <td>0.000000</td>\n      <td>0.000000</td>\n      <td>0.000000</td>\n      <td>0.000000</td>\n      <td>0.000000</td>\n      <td>0.000000</td>\n      <td>0.000000</td>\n      <td>0.000000</td>\n      <td>1</td>\n    </tr>\n    <tr>\n      <th>5215</th>\n      <td>0.098039</td>\n      <td>0.098039</td>\n      <td>0.098039</td>\n      <td>0.094019</td>\n      <td>0.094019</td>\n      <td>0.094019</td>\n      <td>0.139373</td>\n      <td>0.139373</td>\n      <td>0.139373</td>\n      <td>0.210118</td>\n      <td>...</td>\n      <td>0.117647</td>\n      <td>0.117647</td>\n      <td>0.117647</td>\n      <td>0.134039</td>\n      <td>0.134039</td>\n      <td>0.134039</td>\n      <td>0.216124</td>\n      <td>0.216124</td>\n      <td>0.216124</td>\n      <td>1</td>\n    </tr>\n  </tbody>\n</table>\n<p>5216 rows × 30001 columns</p>\n</div>"
          },
          "metadata": {}
        }
      ]
    },
    {
      "cell_type": "code",
      "source": [
        "df.shape"
      ],
      "metadata": {
        "execution": {
          "iopub.status.busy": "2022-01-04T14:48:25.894576Z",
          "iopub.execute_input": "2022-01-04T14:48:25.896067Z",
          "iopub.status.idle": "2022-01-04T14:48:25.903674Z",
          "shell.execute_reply.started": "2022-01-04T14:48:25.896015Z",
          "shell.execute_reply": "2022-01-04T14:48:25.902769Z"
        },
        "trusted": true,
        "id": "mT4ppUyNPM3y",
        "outputId": "f46582ce-386e-41c2-9dc6-d184ca99b63f"
      },
      "execution_count": null,
      "outputs": [
        {
          "execution_count": 5,
          "output_type": "execute_result",
          "data": {
            "text/plain": "(5216, 30001)"
          },
          "metadata": {}
        }
      ]
    },
    {
      "cell_type": "code",
      "source": [
        "x=df.iloc[:,:-1]\n",
        "y=df.iloc[:,-1]"
      ],
      "metadata": {
        "execution": {
          "iopub.status.busy": "2022-01-04T14:48:25.905233Z",
          "iopub.execute_input": "2022-01-04T14:48:25.905803Z",
          "iopub.status.idle": "2022-01-04T14:48:26.591389Z",
          "shell.execute_reply.started": "2022-01-04T14:48:25.905757Z",
          "shell.execute_reply": "2022-01-04T14:48:26.590514Z"
        },
        "trusted": true,
        "id": "6x9roEmbPM3y"
      },
      "execution_count": null,
      "outputs": []
    },
    {
      "cell_type": "code",
      "source": [
        "from sklearn.model_selection import train_test_split\n",
        "x_train,x_test,y_train,y_test=train_test_split(x,y,test_size=0.30,random_state=77,stratify=y)\n",
        "print('Splitted Successfully')\n",
        "print(x_train.shape,x_test.shape,y_train.shape,y_test.shape)"
      ],
      "metadata": {
        "execution": {
          "iopub.status.busy": "2022-01-04T14:48:26.592781Z",
          "iopub.execute_input": "2022-01-04T14:48:26.593122Z",
          "iopub.status.idle": "2022-01-04T14:48:27.330242Z",
          "shell.execute_reply.started": "2022-01-04T14:48:26.593081Z",
          "shell.execute_reply": "2022-01-04T14:48:27.329658Z"
        },
        "trusted": true,
        "id": "TNKpTf9rPM3z",
        "outputId": "e5d434d0-2b61-4329-e259-b9a250b74872"
      },
      "execution_count": null,
      "outputs": [
        {
          "name": "stdout",
          "text": "Splitted Successfully\n(3651, 30000) (1565, 30000) (3651,) (1565,)\n",
          "output_type": "stream"
        }
      ]
    },
    {
      "cell_type": "code",
      "source": [
        "# from sklearn.model_selection import GridSearchCV\n",
        "# from sklearn import svm\n",
        "# param_grid={'C':[0.1,1,10,100],'gamma':[0.0001,0.001,0.1,1],'kernel':['rbf','poly']}\n",
        "# svc=svm.SVC(probability=True)\n",
        "# print(\"The training of the model is started, please wait for while as it may take few minutes to complete\")\n",
        "# model=GridSearchCV(svc,param_grid)\n",
        "# model.fit(x_train,y_train)\n",
        "# print('The Model is trained well with the given images')\n",
        "# model.best_params_"
      ],
      "metadata": {
        "execution": {
          "iopub.status.busy": "2022-01-04T14:48:27.331421Z",
          "iopub.execute_input": "2022-01-04T14:48:27.331833Z",
          "iopub.status.idle": "2022-01-04T14:48:27.335146Z",
          "shell.execute_reply.started": "2022-01-04T14:48:27.331804Z",
          "shell.execute_reply": "2022-01-04T14:48:27.334287Z"
        },
        "trusted": true,
        "id": "3lmgMu_VPM3z"
      },
      "execution_count": null,
      "outputs": []
    },
    {
      "cell_type": "code",
      "source": [
        "from sklearn.svm import SVC\n",
        "clf_SVM=SVC(C=10,kernel='rbf')\n",
        "clf_SVM.fit(x_train,y_train)"
      ],
      "metadata": {
        "execution": {
          "iopub.status.busy": "2022-01-04T14:48:27.336250Z",
          "iopub.execute_input": "2022-01-04T14:48:27.336448Z",
          "iopub.status.idle": "2022-01-04T14:50:27.009880Z",
          "shell.execute_reply.started": "2022-01-04T14:48:27.336424Z",
          "shell.execute_reply": "2022-01-04T14:50:27.009009Z"
        },
        "trusted": true,
        "id": "wHbMDbiiPM30",
        "outputId": "df4749d0-de58-489d-ac61-883529179b7f"
      },
      "execution_count": null,
      "outputs": [
        {
          "execution_count": 9,
          "output_type": "execute_result",
          "data": {
            "text/plain": "SVC(C=10)"
          },
          "metadata": {}
        }
      ]
    },
    {
      "cell_type": "code",
      "source": [
        "y_pred=clf_SVM.predict(x_test)\n",
        "print(\"The predicted Data is :\")\n",
        "y_pred"
      ],
      "metadata": {
        "execution": {
          "iopub.status.busy": "2022-01-04T14:50:27.011047Z",
          "iopub.execute_input": "2022-01-04T14:50:27.011268Z",
          "iopub.status.idle": "2022-01-04T14:51:16.029580Z",
          "shell.execute_reply.started": "2022-01-04T14:50:27.011243Z",
          "shell.execute_reply": "2022-01-04T14:51:16.028730Z"
        },
        "trusted": true,
        "id": "6gDJjRMMPM30",
        "outputId": "dc740347-7767-44c4-adc0-2bbd4540b525"
      },
      "execution_count": null,
      "outputs": [
        {
          "name": "stdout",
          "text": "The predicted Data is :\n",
          "output_type": "stream"
        },
        {
          "execution_count": 10,
          "output_type": "execute_result",
          "data": {
            "text/plain": "array([1, 1, 0, ..., 0, 0, 1])"
          },
          "metadata": {}
        }
      ]
    },
    {
      "cell_type": "code",
      "source": [
        "print(\"The actual data is:\")\n",
        "np.array(y_test)"
      ],
      "metadata": {
        "execution": {
          "iopub.status.busy": "2022-01-04T14:51:16.030833Z",
          "iopub.execute_input": "2022-01-04T14:51:16.031196Z",
          "iopub.status.idle": "2022-01-04T14:51:16.038940Z",
          "shell.execute_reply.started": "2022-01-04T14:51:16.031163Z",
          "shell.execute_reply": "2022-01-04T14:51:16.038116Z"
        },
        "trusted": true,
        "id": "5UoqGSrxPM31",
        "outputId": "6327e7f1-9a6a-4a72-c99f-5222d10ea7a9"
      },
      "execution_count": null,
      "outputs": [
        {
          "name": "stdout",
          "text": "The actual data is:\n",
          "output_type": "stream"
        },
        {
          "execution_count": 11,
          "output_type": "execute_result",
          "data": {
            "text/plain": "array([1, 1, 0, ..., 0, 0, 1])"
          },
          "metadata": {}
        }
      ]
    },
    {
      "cell_type": "code",
      "source": [
        "from sklearn.metrics import classification_report,accuracy_score,confusion_matrix\n",
        "print(f\"The model is {accuracy_score(y_pred,y_test)*100}% accurate\")"
      ],
      "metadata": {
        "execution": {
          "iopub.status.busy": "2022-01-04T15:39:18.538156Z",
          "iopub.execute_input": "2022-01-04T15:39:18.538448Z",
          "iopub.status.idle": "2022-01-04T15:39:18.544822Z",
          "shell.execute_reply.started": "2022-01-04T15:39:18.538411Z",
          "shell.execute_reply": "2022-01-04T15:39:18.543756Z"
        },
        "trusted": true,
        "id": "TRUt0mKTPM31",
        "outputId": "1e537e3b-d29d-4c4f-825f-aa8b917376b6"
      },
      "execution_count": null,
      "outputs": [
        {
          "name": "stdout",
          "text": "The model is 95.33546325878595% accurate\n",
          "output_type": "stream"
        }
      ]
    },
    {
      "cell_type": "code",
      "source": [
        "from sklearn.metrics import classification_report, plot_confusion_matrix,plot_roc_curve\n",
        "print (classification_report(y_test,clf_SVM.predict(x_test)))\n",
        "plot_confusion_matrix(clf_SVM,x_test,y_test)\n",
        "fig=plot_roc_curve(clf_SVM,x_test,y_test,label=\"Roc Test\")\n",
        "fig=plot_roc_curve(clf_SVM,x_train,y_train,color='r',label=\"Roc Train\",ax = fig.ax_)\n",
        "plt.title(\"ROC CURVE\")\n",
        "plt.show()"
      ],
      "metadata": {
        "execution": {
          "iopub.status.busy": "2022-01-04T15:39:49.206856Z",
          "iopub.execute_input": "2022-01-04T15:39:49.207313Z",
          "iopub.status.idle": "2022-01-04T15:39:55.724414Z",
          "shell.execute_reply.started": "2022-01-04T15:39:49.207282Z",
          "shell.execute_reply": "2022-01-04T15:39:55.723798Z"
        },
        "trusted": true,
        "id": "cFqv4dL3PM31",
        "outputId": "b3b0c8bd-6f86-4e86-d51a-1e34bcf3184c"
      },
      "execution_count": null,
      "outputs": [
        {
          "name": "stdout",
          "text": "              precision    recall  f1-score   support\n\n           0       0.95      0.91      0.93       402\n           1       0.97      0.98      0.98      1163\n\n    accuracy                           0.96      1565\n   macro avg       0.96      0.94      0.95      1565\nweighted avg       0.96      0.96      0.96      1565\n\n",
          "output_type": "stream"
        },
        {
          "output_type": "display_data",
          "data": {
            "text/plain": "<Figure size 432x288 with 2 Axes>",
            "image/png": "[encoded data removed]"
          },
          "metadata": {
            "needs_background": "light"
          }
        },
        {
          "output_type": "display_data",
          "data": {
            "text/plain": "<Figure size 432x288 with 1 Axes>",
            "image/png": "[encoded data removed]"
          },
          "metadata": {
            "needs_background": "light"
          }
        }
      ]
    },
    {
      "cell_type": "code",
      "source": [
        "x=df.iloc[:,:-1]\n",
        "y=df.iloc[:,-1]"
      ],
      "metadata": {
        "execution": {
          "iopub.status.busy": "2022-01-04T14:51:16.052248Z",
          "iopub.execute_input": "2022-01-04T14:51:16.053069Z",
          "iopub.status.idle": "2022-01-04T14:51:16.612629Z",
          "shell.execute_reply.started": "2022-01-04T14:51:16.053030Z",
          "shell.execute_reply": "2022-01-04T14:51:16.611774Z"
        },
        "trusted": true,
        "id": "eAa0L8_rPM33"
      },
      "execution_count": null,
      "outputs": []
    },
    {
      "cell_type": "code",
      "source": [
        "from sklearn.model_selection import train_test_split\n",
        "x_train,x_test,y_train,y_test=train_test_split(x,y,test_size=0.30,random_state=77,stratify=y)\n",
        "print('Pemisahan Data/Test')\n",
        "print(x_train.shape,x_test.shape,y_train.shape,y_test.shape)"
      ],
      "metadata": {
        "execution": {
          "iopub.status.busy": "2022-01-04T14:51:16.615541Z",
          "iopub.execute_input": "2022-01-04T14:51:16.616382Z",
          "iopub.status.idle": "2022-01-04T14:51:17.016579Z",
          "shell.execute_reply.started": "2022-01-04T14:51:16.616339Z",
          "shell.execute_reply": "2022-01-04T14:51:17.015993Z"
        },
        "trusted": true,
        "id": "G5F8n9RoPM33"
      },
      "execution_count": null,
      "outputs": []
    },
    {
      "cell_type": "code",
      "source": [
        "from sklearn.preprocessing import StandardScaler\n",
        "scaler = StandardScaler()\n",
        "x_train = scaler.fit_transform(x_train)\n",
        "x_test = scaler.transform(x_test)"
      ],
      "metadata": {
        "execution": {
          "iopub.status.busy": "2022-01-04T14:51:17.017579Z",
          "iopub.execute_input": "2022-01-04T14:51:17.017928Z",
          "iopub.status.idle": "2022-01-04T14:51:20.153213Z",
          "shell.execute_reply.started": "2022-01-04T14:51:17.017884Z",
          "shell.execute_reply": "2022-01-04T14:51:20.152413Z"
        },
        "trusted": true,
        "id": "jYkKhHRpPM33"
      },
      "execution_count": null,
      "outputs": []
    },
    {
      "cell_type": "code",
      "source": [
        "from sklearn.decomposition import PCA\n",
        "pca = PCA(n_components=0.95)\n",
        "scaler = StandardScaler()\n",
        "x_train = pca.fit_transform(x_train)\n",
        "x_test = pca.transform(x_test)\n",
        "x_train = scaler.fit_transform(x_train)\n",
        "x_test = scaler.transform(x_test)\n"
      ],
      "metadata": {
        "execution": {
          "iopub.status.busy": "2022-01-04T14:51:20.154494Z",
          "iopub.execute_input": "2022-01-04T14:51:20.154709Z",
          "iopub.status.idle": "2022-01-04T14:52:50.324291Z",
          "shell.execute_reply.started": "2022-01-04T14:51:20.154684Z",
          "shell.execute_reply": "2022-01-04T14:52:50.323200Z"
        },
        "trusted": true,
        "id": "b9Xola2rPM34"
      },
      "execution_count": null,
      "outputs": []
    },
    {
      "cell_type": "code",
      "source": [
        "x_train=x_train\n",
        "x_test= x_test"
      ],
      "metadata": {
        "execution": {
          "iopub.status.busy": "2022-01-04T14:52:50.330839Z",
          "iopub.execute_input": "2022-01-04T14:52:50.334035Z",
          "iopub.status.idle": "2022-01-04T14:52:50.341801Z",
          "shell.execute_reply.started": "2022-01-04T14:52:50.333962Z",
          "shell.execute_reply": "2022-01-04T14:52:50.340714Z"
        },
        "trusted": true,
        "id": "g8hNhfa3PM34"
      },
      "execution_count": null,
      "outputs": []
    },
    {
      "cell_type": "code",
      "source": [
        "x_train"
      ],
      "metadata": {
        "execution": {
          "iopub.status.busy": "2022-01-04T14:52:50.371739Z",
          "iopub.execute_input": "2022-01-04T14:52:50.375774Z",
          "iopub.status.idle": "2022-01-04T14:52:50.389068Z",
          "shell.execute_reply.started": "2022-01-04T14:52:50.375701Z",
          "shell.execute_reply": "2022-01-04T14:52:50.388010Z"
        },
        "trusted": true,
        "id": "giyD_iGuPM34",
        "outputId": "3ba4eb0d-00a8-479f-dce5-52f54401ca1a"
      },
      "execution_count": null,
      "outputs": [
        {
          "execution_count": 19,
          "output_type": "execute_result",
          "data": {
            "text/plain": "array([[-0.94144917,  0.77181084, -0.62192661, ..., -0.19760321,\n         0.83756858, -0.08089891],\n       [ 0.67173162,  2.6613797 , -0.03979065, ..., -0.89863564,\n         0.696654  , -4.098803  ],\n       [ 0.60421893,  0.88534383,  0.53349876, ...,  0.31938607,\n         0.40865713,  0.57358975],\n       ...,\n       [ 0.29602062,  1.43018898,  0.56704068, ..., -0.40647   ,\n         0.00998504, -0.08392908],\n       [-2.81816575,  0.84986581,  1.34904742, ..., -0.73330605,\n         1.16424074,  1.3166856 ],\n       [ 0.50649828, -1.17023716, -0.65334857, ..., -0.38091208,\n         0.55037215,  1.00951767]])"
          },
          "metadata": {}
        }
      ]
    },
    {
      "cell_type": "code",
      "source": [
        "x_test"
      ],
      "metadata": {
        "execution": {
          "iopub.status.busy": "2022-01-04T14:52:50.395185Z",
          "iopub.execute_input": "2022-01-04T14:52:50.395926Z",
          "iopub.status.idle": "2022-01-04T14:52:50.408700Z",
          "shell.execute_reply.started": "2022-01-04T14:52:50.395861Z",
          "shell.execute_reply": "2022-01-04T14:52:50.407850Z"
        },
        "trusted": true,
        "id": "az3RcBDiPM35",
        "outputId": "e00d521c-9c31-4ea2-a9e0-754fd2244203"
      },
      "execution_count": null,
      "outputs": [
        {
          "execution_count": 20,
          "output_type": "execute_result",
          "data": {
            "text/plain": "array([[ 1.09177733,  1.37219936, -0.11576713, ...,  0.19223388,\n         0.4613756 , -0.06358981],\n       [-0.37469825, -0.25564662, -1.38957373, ...,  0.90767066,\n         1.35575219,  1.06605532],\n       [ 1.06302218, -0.72434595, -0.87419841, ..., -2.67973112,\n         0.819122  , -1.18824369],\n       ...,\n       [-0.2376704 , -0.56363531,  1.06242728, ...,  0.37676716,\n        -1.49586062, -1.46491341],\n       [ 0.75770183, -0.10140869,  0.44519476, ...,  1.42099861,\n        -1.39502954, -1.55687341],\n       [ 1.70614806,  2.6376183 ,  1.79699834, ..., -0.70592481,\n         0.43475063, -0.38018688]])"
          },
          "metadata": {}
        }
      ]
    },
    {
      "cell_type": "code",
      "source": [
        "from sklearn.model_selection import GridSearchCV\n",
        "from sklearn.svm import SVC\n",
        "param_grid = {'C': [0.1, 1, 10, 100],\n",
        "              'gamma': [1, 0.75, 0.1],\n",
        "              'kernel': ['rbf', 'poly', 'linear']}\n",
        "\n",
        "grid = GridSearchCV(SVC(), param_grid)\n",
        "grid.fit(x_train, y_train)\n",
        "best_params = grid.best_params_\n",
        "print(f\"Best params: {best_params}\")\n",
        "\n",
        "svm_clf = SVC(**best_params)\n",
        "svm_clf.fit(x_train, y_train)"
      ],
      "metadata": {
        "execution": {
          "iopub.status.busy": "2022-01-04T15:11:58.967791Z",
          "iopub.execute_input": "2022-01-04T15:11:58.968617Z",
          "iopub.status.idle": "2022-01-04T15:21:38.781665Z",
          "shell.execute_reply.started": "2022-01-04T15:11:58.968548Z",
          "shell.execute_reply": "2022-01-04T15:21:38.780833Z"
        },
        "trusted": true,
        "id": "Gcq6bDVpPM35",
        "outputId": "4a3f5eb5-5f47-497d-f8c4-5dfe7d71fb17"
      },
      "execution_count": null,
      "outputs": [
        {
          "name": "stdout",
          "text": "Best params: {'C': 0.1, 'gamma': 1, 'kernel': 'linear'}\n",
          "output_type": "stream"
        },
        {
          "execution_count": 26,
          "output_type": "execute_result",
          "data": {
            "text/plain": "SVC(C=0.1, gamma=1, kernel='linear')"
          },
          "metadata": {}
        }
      ]
    },
    {
      "cell_type": "code",
      "source": [
        "from sklearn.svm import SVC\n",
        "clf_SVM=SVC(C=10,kernel='rbf')\n",
        "clf_SVM.fit(x_train,y_train)"
      ],
      "metadata": {
        "execution": {
          "iopub.status.busy": "2022-01-04T15:36:27.278287Z",
          "iopub.execute_input": "2022-01-04T15:36:27.278660Z",
          "iopub.status.idle": "2022-01-04T15:36:31.520806Z",
          "shell.execute_reply.started": "2022-01-04T15:36:27.278614Z",
          "shell.execute_reply": "2022-01-04T15:36:31.519833Z"
        },
        "trusted": true,
        "id": "xNCpMAkcPM35",
        "outputId": "efe6e0b0-1536-4c74-b654-011e6c9fec08"
      },
      "execution_count": null,
      "outputs": [
        {
          "execution_count": 27,
          "output_type": "execute_result",
          "data": {
            "text/plain": "SVC(C=10)"
          },
          "metadata": {}
        }
      ]
    },
    {
      "cell_type": "code",
      "source": [
        "from sklearn.metrics import classification_report,accuracy_score,confusion_matrix\n",
        "y_pred = svm_clf.predict(x_test)\n",
        "print(f\"The model is {accuracy_score(y_pred,y_test)*100}% accurate\")"
      ],
      "metadata": {
        "execution": {
          "iopub.status.busy": "2022-01-04T15:36:42.732533Z",
          "iopub.execute_input": "2022-01-04T15:36:42.732825Z",
          "iopub.status.idle": "2022-01-04T15:36:42.952574Z",
          "shell.execute_reply.started": "2022-01-04T15:36:42.732795Z",
          "shell.execute_reply": "2022-01-04T15:36:42.951678Z"
        },
        "trusted": true,
        "id": "uFHFR4g9PM35",
        "outputId": "eae3d115-5cbd-4373-95d4-18e46bcfa534"
      },
      "execution_count": null,
      "outputs": [
        {
          "name": "stdout",
          "text": "The model is 95.33546325878595% accurate\n",
          "output_type": "stream"
        }
      ]
    },
    {
      "cell_type": "code",
      "source": [
        "from sklearn.metrics import classification_report, plot_confusion_matrix,plot_roc_curve\n",
        "print (classification_report(y_test,svm_clf.predict(x_test)))\n",
        "plot_confusion_matrix(svm_clf,x_test,y_test)\n",
        "fig=plot_roc_curve(svm_clf,x_test,y_test,label=\"Roc Test\")\n",
        "fig=plot_roc_curve(svm_clf,x_train,y_train,color='r',label=\"Roc Train\",ax = fig.ax_)\n",
        "plt.title(\"ROC CURVE\")\n",
        "plt.show()\n"
      ],
      "metadata": {
        "execution": {
          "iopub.status.busy": "2022-01-04T15:37:03.718361Z",
          "iopub.execute_input": "2022-01-04T15:37:03.718652Z",
          "iopub.status.idle": "2022-01-04T15:37:05.319157Z",
          "shell.execute_reply.started": "2022-01-04T15:37:03.718619Z",
          "shell.execute_reply": "2022-01-04T15:37:05.318195Z"
        },
        "trusted": true,
        "id": "odkXLWYOPM36",
        "outputId": "ab47e5e0-864f-4449-c128-f21d6eb5a1e9"
      },
      "execution_count": null,
      "outputs": [
        {
          "name": "stdout",
          "text": "              precision    recall  f1-score   support\n\n           0       0.93      0.89      0.91       402\n           1       0.96      0.98      0.97      1163\n\n    accuracy                           0.95      1565\n   macro avg       0.94      0.93      0.94      1565\nweighted avg       0.95      0.95      0.95      1565\n\n",
          "output_type": "stream"
        },
        {
          "output_type": "display_data",
          "data": {
            "text/plain": "<Figure size 432x288 with 2 Axes>",
            "image/png": "[encoded data removed]"
          },
          "metadata": {
            "needs_background": "light"
          }
        },
        {
          "output_type": "display_data",
          "data": {
            "text/plain": "<Figure size 432x288 with 1 Axes>",
            "image/png": "[encoded data removed]"
          },
          "metadata": {
            "needs_background": "light"
          }
        }
      ]
    },
    {
      "cell_type": "code",
      "source": [
        "import numpy as np\n",
        "import pandas as pd\n",
        "import matplotlib.pyplot as plt\n",
        "from sklearn.model_selection import train_test_split\n",
        "from sklearn import preprocessing"
      ],
      "metadata": {
        "id": "LC-GjAoWiJxl"
      },
      "execution_count": null,
      "outputs": []
    },
    {
      "cell_type": "code",
      "source": [
        "def create_one_hot_encoding(classes, shape):\n",
        "    one_hot_encoding = np.zeros(shape)\n",
        "    for i in range(0, len(one_hot_encoding)):\n",
        "        one_hot_encoding[i][int(classes[i])] = 1\n",
        "    return one_hot_encoding"
      ],
      "metadata": {
        "_uuid": "184ed2d1fd0186e8eb0440b8092cc7faf6201bdd",
        "_cell_guid": "c207ff1d-dfdf-41c3-80de-818e2a197ffa",
        "execution": {
          "iopub.status.busy": "2023-12-21T07:57:46.616841Z",
          "iopub.execute_input": "2023-12-21T07:57:46.617612Z",
          "iopub.status.idle": "2023-12-21T07:57:46.626718Z",
          "shell.execute_reply.started": "2023-12-21T07:57:46.617538Z",
          "shell.execute_reply": "2023-12-21T07:57:46.625903Z"
        },
        "trusted": true,
        "id": "m4dnjUo6SNs1"
      },
      "execution_count": null,
      "outputs": []
    },
    {
      "cell_type": "code",
      "source": [
        "def train(weights, x, y):\n",
        "    h = x.dot(weights)\n",
        "    h = np.maximum(h, 0, h)\n",
        "    return np.linalg.pinv(h).dot(y)"
      ],
      "metadata": {
        "_uuid": "d7796c2dde59b44d446dc359fa2700125cf660cd",
        "_cell_guid": "d87c71fd-b5da-49c7-9cac-0994a4233420",
        "execution": {
          "iopub.status.busy": "2023-12-21T07:57:46.628001Z",
          "iopub.execute_input": "2023-12-21T07:57:46.628491Z",
          "iopub.status.idle": "2023-12-21T07:57:46.642278Z",
          "shell.execute_reply.started": "2023-12-21T07:57:46.628424Z",
          "shell.execute_reply": "2023-12-21T07:57:46.641347Z"
        },
        "trusted": true,
        "id": "4AqsRrhFSNs1"
      },
      "execution_count": null,
      "outputs": []
    },
    {
      "cell_type": "code",
      "source": [
        "def soft_max(layer):\n",
        "    soft_max_output_layer = np.zeros(len(layer))\n",
        "    for i in range(0, len(layer)):\n",
        "        numitor = 0\n",
        "        for j in range(0, len(layer)):\n",
        "            numitor += np.exp(layer[j] - np.max(layer))\n",
        "        soft_max_output_layer[i] = np.exp(layer[i] - np.max(layer)) / numitor\n",
        "    return soft_max_output_layer\n",
        "\n",
        "def matrix_soft_max(matrix_):\n",
        "    soft_max_matrix = []\n",
        "    for i in range(0, len(matrix_)):\n",
        "        soft_max_matrix.append(soft_max(matrix_[i]))\n",
        "    return soft_max_matrix"
      ],
      "metadata": {
        "_uuid": "18ab2a89f65f6b358f5efb8a43af28ad7bd7e147",
        "_cell_guid": "41f62bb0-c7c1-4b0c-8d72-8e838c3e0bb5",
        "execution": {
          "iopub.status.busy": "2023-12-21T07:57:46.643635Z",
          "iopub.execute_input": "2023-12-21T07:57:46.644162Z",
          "iopub.status.idle": "2023-12-21T07:57:46.667414Z",
          "shell.execute_reply.started": "2023-12-21T07:57:46.644092Z",
          "shell.execute_reply": "2023-12-21T07:57:46.666182Z"
        },
        "trusted": true,
        "id": "Cjr9VC7SSNs2"
      },
      "execution_count": null,
      "outputs": []
    },
    {
      "cell_type": "code",
      "source": [
        "def check_network_power(o, o_real):\n",
        "    count = 0\n",
        "    for i in range(0, len(o)):\n",
        "        count += 1 if np.argmax(o[i]) == np.argmax(o_real[i]) else 0\n",
        "    return count"
      ],
      "metadata": {
        "_uuid": "fc58b68c816c1eade08071026d77655f7bbd6468",
        "_cell_guid": "a4f689f7-2ac9-4a8b-babb-926890b4901d",
        "execution": {
          "iopub.status.busy": "2023-12-21T07:57:46.668840Z",
          "iopub.execute_input": "2023-12-21T07:57:46.669210Z",
          "iopub.status.idle": "2023-12-21T07:57:46.679169Z",
          "shell.execute_reply.started": "2023-12-21T07:57:46.669153Z",
          "shell.execute_reply": "2023-12-21T07:57:46.678006Z"
        },
        "trusted": true,
        "id": "nvnt1zNDSNs2"
      },
      "execution_count": null,
      "outputs": []
    },
    {
      "cell_type": "code",
      "source": [
        "def test(weights, beta, x, y):\n",
        "    h = x.dot(weights)\n",
        "    h = np.maximum(h, 0, h)  # ReLU\n",
        "    o = matrix_soft_max(h.dot(beta))\n",
        "    return check_network_power(o, y) / len(y)"
      ],
      "metadata": {
        "_uuid": "77e77a270b44df64fe6adbacefbaf0a7ef2ccf08",
        "_cell_guid": "995c1065-8eae-4ec9-a7b1-f8060368f69a",
        "execution": {
          "iopub.status.busy": "2023-12-21T07:57:46.680727Z",
          "iopub.execute_input": "2023-12-21T07:57:46.681080Z",
          "iopub.status.idle": "2023-12-21T07:57:46.689353Z",
          "shell.execute_reply.started": "2023-12-21T07:57:46.681005Z",
          "shell.execute_reply": "2023-12-21T07:57:46.688608Z"
        },
        "trusted": true,
        "id": "wYZltEUvSNs2"
      },
      "execution_count": null,
      "outputs": []
    },
    {
      "cell_type": "code",
      "source": [
        "class_column = 0\n",
        "test_size = 0.1\n",
        "db = csv_dataset.iloc[:, :].values.astype(np.float)\n",
        "np.random.shuffle(db)\n",
        "y = db[:, class_column]\n",
        "y -= np.min(y)\n",
        "output_layer_perceptron_count = len(np.unique(y))\n",
        "y = create_one_hot_encoding(y, (len(y), len(np.unique(y))))\n",
        "x = np.delete(db, [class_column], axis=1)\n",
        "x_train, x_test, y_train, y_test = train_test_split(x, y, test_size=test_size)\n",
        "hidden_layer_perceptron_count = len(y_test)\n",
        "x = preprocessing.normalize(x)\n",
        "weights = np.random.random((len(x[0]), hidden_layer_perceptron_count))\n",
        "beta = train(weights, x_train, y_train)\n",
        "print(\"Accuracy = %s.\" % test(weights, beta, x_test, y_test))"
      ],
      "metadata": {
        "_uuid": "500655dd54f808d4cd9e676ae9b39d7c1868db08",
        "_cell_guid": "1edb03c9-e110-424b-8da6-6c67e8d0d8d0",
        "execution": {
          "iopub.status.busy": "2023-12-21T07:57:46.690675Z",
          "iopub.execute_input": "2023-12-21T07:57:46.691205Z",
          "iopub.status.idle": "2023-12-21T07:57:46.788677Z",
          "shell.execute_reply.started": "2023-12-21T07:57:46.691138Z",
          "shell.execute_reply": "2023-12-21T07:57:46.787830Z"
        },
        "trusted": true,
        "id": "KCWHeG5JSNs3",
        "outputId": "a4d249c8-acaf-44af-b7c8-7c5cb2644a4d"
      },
      "execution_count": null,
      "outputs": [
        {
          "name": "stdout",
          "text": "Accuracy = 0.9649122807017544.\n",
          "output_type": "stream"
        }
      ]
    }
  ]
}